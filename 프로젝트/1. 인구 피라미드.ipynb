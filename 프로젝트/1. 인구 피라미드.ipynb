{
 "cells": [
  {
   "cell_type": "markdown",
   "id": "9fb27c9b-0ceb-4d2b-b464-42d8cc6692e0",
   "metadata": {},
   "source": [
    "# 인구 피라미드"
   ]
  },
  {
   "cell_type": "code",
   "execution_count": 1,
   "id": "147cbf92-3270-4d66-9e85-a9d0bb14dc1e",
   "metadata": {},
   "outputs": [],
   "source": [
    "import pandas as pd\n",
    "import matplotlib.pyplot as plt\n",
    "import matplotlib\n",
    "matplotlib.rcParams['font.family'] = 'Malgun Gothic'\n",
    "matplotlib.rcParams['font.size'] = 15\n",
    "matplotlib.rcParams['axes.unicode_minus'] = False"
   ]
  },
  {
   "cell_type": "markdown",
   "id": "b9d48abb-9875-40b2-9f23-21986f03efdc",
   "metadata": {},
   "source": [
    "## 남자 데이터 정의"
   ]
  },
  {
   "cell_type": "code",
   "execution_count": 2,
   "id": "09e2b238-fc8b-4c19-9ac2-77a5e14b9b27",
   "metadata": {},
   "outputs": [
    {
     "name": "stderr",
     "output_type": "stream",
     "text": [
      "C:\\Users\\jack\\anaconda3\\Lib\\site-packages\\openpyxl\\styles\\stylesheet.py:237: UserWarning: Workbook contains no default style, apply openpyxl's default\n",
      "  warn(\"Workbook contains no default style, apply openpyxl's default\")\n"
     ]
    }
   ],
   "source": [
    "file_name = '202501_202501_연령별인구현황_월간.xlsx'\n",
    "df_m = pd.read_excel(file_name, skiprows=3, index_col='행정기관', usecols='B, E:Y')"
   ]
  },
  {
   "cell_type": "code",
   "execution_count": 3,
   "id": "b34bb2f7-8955-4613-8a89-b4b08c417319",
   "metadata": {
    "scrolled": true
   },
   "outputs": [],
   "source": [
    "df_m.iloc[0] = df_m.iloc[0].str.replace(',', '').astype(int)"
   ]
  },
  {
   "cell_type": "code",
   "execution_count": 4,
   "id": "4a137145-aa6a-4cb6-b034-3aa224b9e0dd",
   "metadata": {},
   "outputs": [
    {
     "data": {
      "text/plain": [
       "0~4세        648339\n",
       "5~9세        950546\n",
       "10~14세     1191717\n",
       "15~19세     1182489\n",
       "20~24세     1363617\n",
       "25~29세     1722639\n",
       "30~34세     1833053\n",
       "35~39세     1621988\n",
       "40~44세     1970544\n",
       "45~49세     1948862\n",
       "50~54세     2248772\n",
       "55~59세     2147892\n",
       "60~64세     2084369\n",
       "65~69세     1768242\n",
       "70~74세     1141322\n",
       "75~79세      806758\n",
       "80~84세      529142\n",
       "85~89세      252280\n",
       "90~94세       67740\n",
       "95~99세       11150\n",
       "100세 이상       1535\n",
       "Name: 전국  , dtype: object"
      ]
     },
     "execution_count": 4,
     "metadata": {},
     "output_type": "execute_result"
    }
   ],
   "source": [
    "df_m.iloc[0]"
   ]
  },
  {
   "cell_type": "markdown",
   "id": "bda40daa-1b48-457b-9828-9e965fd6d96b",
   "metadata": {},
   "source": [
    "## 여자 데이터 정의"
   ]
  },
  {
   "cell_type": "code",
   "execution_count": 5,
   "id": "b996e349-e754-4da3-9bcc-f06d30fe568d",
   "metadata": {},
   "outputs": [
    {
     "name": "stderr",
     "output_type": "stream",
     "text": [
      "C:\\Users\\jack\\anaconda3\\Lib\\site-packages\\openpyxl\\styles\\stylesheet.py:237: UserWarning: Workbook contains no default style, apply openpyxl's default\n",
      "  warn(\"Workbook contains no default style, apply openpyxl's default\")\n"
     ]
    }
   ],
   "source": [
    "df_w = pd.read_excel(file_name, skiprows=3, index_col='행정기관', usecols='B, AB:AV')"
   ]
  },
  {
   "cell_type": "code",
   "execution_count": 6,
   "id": "317ea8b7-cef0-435f-966e-4c4f06a48019",
   "metadata": {},
   "outputs": [
    {
     "data": {
      "text/plain": [
       "Index(['0~4세', '5~9세', '10~14세', '15~19세', '20~24세', '25~29세', '30~34세',\n",
       "       '35~39세', '40~44세', '45~49세', '50~54세', '55~59세', '60~64세', '65~69세',\n",
       "       '70~74세', '75~79세', '80~84세', '85~89세', '90~94세', '95~99세', '100세 이상'],\n",
       "      dtype='object')"
      ]
     },
     "execution_count": 6,
     "metadata": {},
     "output_type": "execute_result"
    }
   ],
   "source": [
    "df_m.columns"
   ]
  },
  {
   "cell_type": "code",
   "execution_count": 7,
   "id": "ebd0f216-1b45-4404-b03f-be85f2ea87fd",
   "metadata": {},
   "outputs": [
    {
     "data": {
      "text/plain": [
       "Index(['0~4세.1', '5~9세.1', '10~14세.1', '15~19세.1', '20~24세.1', '25~29세.1',\n",
       "       '30~34세.1', '35~39세.1', '40~44세.1', '45~49세.1', '50~54세.1', '55~59세.1',\n",
       "       '60~64세.1', '65~69세.1', '70~74세.1', '75~79세.1', '80~84세.1', '85~89세.1',\n",
       "       '90~94세.1', '95~99세.1', '100세 이상.1'],\n",
       "      dtype='object')"
      ]
     },
     "execution_count": 7,
     "metadata": {},
     "output_type": "execute_result"
    }
   ],
   "source": [
    "df_w.columns"
   ]
  },
  {
   "cell_type": "code",
   "execution_count": 8,
   "id": "872322dd-949c-4fce-99b0-1f1f28bf1d46",
   "metadata": {},
   "outputs": [],
   "source": [
    "df_w.columns = df_m.columns # 컬럼명 통일"
   ]
  },
  {
   "cell_type": "code",
   "execution_count": 9,
   "id": "3a0e809e-4c78-4210-85cd-c33d0c27cbef",
   "metadata": {},
   "outputs": [
    {
     "data": {
      "text/plain": [
       "Index(['0~4세', '5~9세', '10~14세', '15~19세', '20~24세', '25~29세', '30~34세',\n",
       "       '35~39세', '40~44세', '45~49세', '50~54세', '55~59세', '60~64세', '65~69세',\n",
       "       '70~74세', '75~79세', '80~84세', '85~89세', '90~94세', '95~99세', '100세 이상'],\n",
       "      dtype='object')"
      ]
     },
     "execution_count": 9,
     "metadata": {},
     "output_type": "execute_result"
    }
   ],
   "source": [
    "df_w.columns"
   ]
  },
  {
   "cell_type": "code",
   "execution_count": 10,
   "id": "0fd4bfbb-2a57-426c-9b35-4e8a291d8366",
   "metadata": {},
   "outputs": [],
   "source": [
    "df_w.iloc[0] = df_w.iloc[0].str.replace(',', '').astype(int)"
   ]
  },
  {
   "cell_type": "code",
   "execution_count": 11,
   "id": "bbbee0d0-8cf5-42f1-b030-447264859f26",
   "metadata": {},
   "outputs": [
    {
     "data": {
      "text/html": [
       "<div>\n",
       "<style scoped>\n",
       "    .dataframe tbody tr th:only-of-type {\n",
       "        vertical-align: middle;\n",
       "    }\n",
       "\n",
       "    .dataframe tbody tr th {\n",
       "        vertical-align: top;\n",
       "    }\n",
       "\n",
       "    .dataframe thead th {\n",
       "        text-align: right;\n",
       "    }\n",
       "</style>\n",
       "<table border=\"1\" class=\"dataframe\">\n",
       "  <thead>\n",
       "    <tr style=\"text-align: right;\">\n",
       "      <th></th>\n",
       "      <th>0~4세</th>\n",
       "      <th>5~9세</th>\n",
       "      <th>10~14세</th>\n",
       "      <th>15~19세</th>\n",
       "      <th>20~24세</th>\n",
       "      <th>25~29세</th>\n",
       "      <th>30~34세</th>\n",
       "      <th>35~39세</th>\n",
       "      <th>40~44세</th>\n",
       "      <th>45~49세</th>\n",
       "      <th>...</th>\n",
       "      <th>55~59세</th>\n",
       "      <th>60~64세</th>\n",
       "      <th>65~69세</th>\n",
       "      <th>70~74세</th>\n",
       "      <th>75~79세</th>\n",
       "      <th>80~84세</th>\n",
       "      <th>85~89세</th>\n",
       "      <th>90~94세</th>\n",
       "      <th>95~99세</th>\n",
       "      <th>100세 이상</th>\n",
       "    </tr>\n",
       "    <tr>\n",
       "      <th>행정기관</th>\n",
       "      <th></th>\n",
       "      <th></th>\n",
       "      <th></th>\n",
       "      <th></th>\n",
       "      <th></th>\n",
       "      <th></th>\n",
       "      <th></th>\n",
       "      <th></th>\n",
       "      <th></th>\n",
       "      <th></th>\n",
       "      <th></th>\n",
       "      <th></th>\n",
       "      <th></th>\n",
       "      <th></th>\n",
       "      <th></th>\n",
       "      <th></th>\n",
       "      <th></th>\n",
       "      <th></th>\n",
       "      <th></th>\n",
       "      <th></th>\n",
       "      <th></th>\n",
       "    </tr>\n",
       "  </thead>\n",
       "  <tbody>\n",
       "    <tr>\n",
       "      <th>전국</th>\n",
       "      <td>618373</td>\n",
       "      <td>902791</td>\n",
       "      <td>1131899</td>\n",
       "      <td>1114571</td>\n",
       "      <td>1263569</td>\n",
       "      <td>1580523</td>\n",
       "      <td>1646810</td>\n",
       "      <td>1515801</td>\n",
       "      <td>1894498</td>\n",
       "      <td>1893163</td>\n",
       "      <td>...</td>\n",
       "      <td>2133752</td>\n",
       "      <td>2098885</td>\n",
       "      <td>1869039</td>\n",
       "      <td>1281323</td>\n",
       "      <td>990687</td>\n",
       "      <td>811449</td>\n",
       "      <td>516190</td>\n",
       "      <td>206306</td>\n",
       "      <td>49439</td>\n",
       "      <td>7098</td>\n",
       "    </tr>\n",
       "  </tbody>\n",
       "</table>\n",
       "<p>1 rows × 21 columns</p>\n",
       "</div>"
      ],
      "text/plain": [
       "        0~4세    5~9세   10~14세   15~19세   20~24세   25~29세   30~34세   35~39세  \\\n",
       "행정기관                                                                         \n",
       "전국    618373  902791  1131899  1114571  1263569  1580523  1646810  1515801   \n",
       "\n",
       "       40~44세   45~49세  ...   55~59세   60~64세   65~69세   70~74세  75~79세  \\\n",
       "행정기관                    ...                                               \n",
       "전국    1894498  1893163  ...  2133752  2098885  1869039  1281323  990687   \n",
       "\n",
       "      80~84세  85~89세  90~94세 95~99세 100세 이상  \n",
       "행정기관                                         \n",
       "전국    811449  516190  206306  49439    7098  \n",
       "\n",
       "[1 rows x 21 columns]"
      ]
     },
     "execution_count": 11,
     "metadata": {},
     "output_type": "execute_result"
    }
   ],
   "source": [
    "df_w.head(1)"
   ]
  },
  {
   "cell_type": "markdown",
   "id": "f7187ba8-6d05-4c84-a087-0a5f815c8189",
   "metadata": {},
   "source": [
    "## 데이터 시각화"
   ]
  },
  {
   "cell_type": "code",
   "execution_count": 12,
   "id": "7d5cea90-c2b6-40cd-ad67-bf8a319cdcd9",
   "metadata": {},
   "outputs": [
    {
     "data": {
      "image/png": "[encoded data removed]",
      "text/plain": [
       "<Figure size 1000x700 with 1 Axes>"
      ]
     },
     "metadata": {},
     "output_type": "display_data"
    }
   ],
   "source": [
    "plt.figure(figsize=(10, 7))\n",
    "plt.barh(df_m.columns, -df_m.iloc[0] // 1000) # 단위 : 천명\n",
    "plt.barh(df_w.columns, df_w.iloc[0] // 1000)\n",
    "plt.title('2025 대한민국 인구 피라미드')\n",
    "plt.savefig('2025_인구피라미드.png', dpi=100)\n",
    "plt.show()"
   ]
  }
 ],
 "metadata": {
  "kernelspec": {
   "display_name": "Python 3 (ipykernel)",
   "language": "python",
   "name": "python3"
  },
  "language_info": {
   "codemirror_mode": {
    "name": "ipython",
    "version": 3
   },
   "file_extension": ".py",
   "mimetype": "text/x-python",
   "name": "python",
   "nbconvert_exporter": "python",
   "pygments_lexer": "ipython3",
   "version": "3.12.7"
  }
 },
 "nbformat": 4,
 "nbformat_minor": 5
}
